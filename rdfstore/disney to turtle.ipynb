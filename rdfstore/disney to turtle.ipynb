{
 "cells": [
  {
   "cell_type": "code",
   "execution_count": null,
   "metadata": {},
   "outputs": [],
   "source": [
    "!pip install rdflib"
   ]
  },
  {
   "cell_type": "code",
   "execution_count": null,
   "metadata": {},
   "outputs": [],
   "source": [
    "!pip install python-slugify"
   ]
  },
  {
   "cell_type": "code",
   "execution_count": null,
   "metadata": {},
   "outputs": [],
   "source": [
    "!pip install SPARQLWrapper"
   ]
  },
  {
   "cell_type": "code",
   "execution_count": null,
   "metadata": {},
   "outputs": [],
   "source": [
    "!pip install unicode"
   ]
  },
  {
   "cell_type": "code",
   "execution_count": 18,
   "metadata": {},
   "outputs": [],
   "source": [
    "import csv\n",
    "from rdflib import Graph,  URIRef, BNode, Literal, XSD\n",
    "from slugify import slugify\n",
    "from SPARQLWrapper import SPARQLWrapper, JSON"
   ]
  },
  {
   "cell_type": "code",
   "execution_count": 7,
   "metadata": {},
   "outputs": [],
   "source": [
    "import pandas as pd\n",
    "df = pd.read_csv('disney_plus_titles.csv')"
   ]
  },
  {
   "cell_type": "code",
   "execution_count": null,
   "metadata": {},
   "outputs": [],
   "source": [
    "df.head()"
   ]
  },
  {
   "cell_type": "code",
   "execution_count": 19,
   "metadata": {},
   "outputs": [],
   "source": [
    "prefix = \"http://tkjentik.com/\""
   ]
  },
  {
   "cell_type": "code",
   "execution_count": 20,
   "metadata": {},
   "outputs": [],
   "source": [
    "g = Graph()\n",
    "\n",
    "uri_id = URIRef(prefix+\"property/id\")\n",
    "uri_type = URIRef(prefix+\"property/type\")\n",
    "uri_title = URIRef(prefix+\"property/title\")\n",
    "uri_director = URIRef(prefix+\"property/director\")\n",
    "uri_cast = URIRef(prefix+\"property/cast\")\n",
    "uri_country = URIRef(prefix+\"property/country\")\n",
    "uri_dateadd = URIRef(prefix+\"property/date_added\")\n",
    "uri_release = URIRef(prefix+\"property/release_year\")\n",
    "uri_rating = URIRef(prefix+\"property/rating\")\n",
    "uri_duration = URIRef(prefix+\"property/duration\")\n",
    "uri_genre = URIRef(prefix+\"property/genre\")\n",
    "uri_description = URIRef(prefix+\"property/description\")\n",
    "uri_dbpedia = URIRef(prefix+\"property/dbpedia\")\n",
    "\n",
    "#director, cast, country bisa null"
   ]
  },
  {
   "cell_type": "code",
   "execution_count": 24,
   "metadata": {},
   "outputs": [],
   "source": [
    "with open('disney_plus_titles.csv', \"r\", encoding='Latin1',newline='') as csvfile:\n",
    "    disney = csv.reader(csvfile)\n",
    "    next(disney, None)\n",
    "    count = 0\n",
    "    for movie_id, movie_type, title, directors, casts, country, date, year, rating, duration, genres, description in disney:\n",
    "        uri = URIRef(prefix+\"disney/\"+slugify(title))\n",
    "        g.add((uri, uri_type, Literal(movie_type)))\n",
    "        g.add((uri, uri_title, Literal(title)))\n",
    "        g.add((uri, uri_dateadd, Literal(date, datatype=XSD.date)))\n",
    "        g.add((uri, uri_release, Literal(int(year))))\n",
    "        g.add((uri, uri_rating, Literal(rating)))\n",
    "        g.add((uri, uri_duration, Literal(duration)))\n",
    "        g.add((uri, uri_description, Literal(description)))\n",
    "        for genre in genres.split(\", \"):\n",
    "            g.add((uri, uri_genre, Literal(genre)))\n",
    "        \n",
    "        if directors:\n",
    "            for director in directors.split(\", \"):\n",
    "                g.add((uri, uri_director, Literal(director)))\n",
    "                \n",
    "        if casts:\n",
    "            for cast in casts.split(\", \"):\n",
    "                g.add((uri, uri_cast, Literal(cast)))\n",
    "                \n",
    "        if country:\n",
    "            g.add((uri, uri_country, Literal(country)))\n",
    "\n",
    "        count+=1\n",
    "        if count == 10:\n",
    "            break\n",
    "\n",
    "with open(\"disney.ttl\", \"w\",encoding='Latin1') as f:\n",
    "    f.write(g.serialize(format=\"turtle\"))"
   ]
  }
 ],
 "metadata": {
  "kernelspec": {
   "display_name": "Python 3",
   "language": "python",
   "name": "python3"
  },
  "language_info": {
   "codemirror_mode": {
    "name": "ipython",
    "version": 3
   },
   "file_extension": ".py",
   "mimetype": "text/x-python",
   "name": "python",
   "nbconvert_exporter": "python",
   "pygments_lexer": "ipython3",
   "version": "3.7.3"
  }
 },
 "nbformat": 4,
 "nbformat_minor": 2
}
